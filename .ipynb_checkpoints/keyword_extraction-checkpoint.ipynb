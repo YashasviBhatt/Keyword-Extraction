{
 "cells": [
  {
   "cell_type": "code",
   "execution_count": 1,
   "metadata": {},
   "outputs": [
    {
     "name": "stderr",
     "output_type": "stream",
     "text": [
      "[nltk_data] Downloading package stopwords to\n",
      "[nltk_data]     C:\\Users\\yash\\AppData\\Roaming\\nltk_data...\n",
      "[nltk_data]   Package stopwords is already up-to-date!\n",
      "[nltk_data] Downloading package words to\n",
      "[nltk_data]     C:\\Users\\yash\\AppData\\Roaming\\nltk_data...\n",
      "[nltk_data]   Package words is already up-to-date!\n"
     ]
    },
    {
     "data": {
      "text/plain": [
       "True"
      ]
     },
     "execution_count": 1,
     "metadata": {},
     "output_type": "execute_result"
    }
   ],
   "source": [
    "# Importing the Libraries\n",
    "import math\n",
    "from os import system, name\n",
    "import pandas as pd\n",
    "import re as regex\n",
    "import seaborn as sns\n",
    "import nltk\n",
    "from tqdm import tqdm_notebook as bar\n",
    "nltk.download('stopwords')\n",
    "nltk.download('words')"
   ]
  },
  {
   "cell_type": "code",
   "execution_count": 2,
   "metadata": {},
   "outputs": [],
   "source": [
    "# Importing Natural Language Processing Libraries\n",
    "from nltk.stem import WordNetLemmatizer\n",
    "from nltk.corpus import stopwords, words\n",
    "from sklearn.feature_extraction.text import CountVectorizer"
   ]
  },
  {
   "cell_type": "code",
   "execution_count": 3,
   "metadata": {},
   "outputs": [],
   "source": [
    "# Importing the Dataset\n",
    "df = pd.read_csv('./data.csv')"
   ]
  },
  {
   "cell_type": "code",
   "execution_count": 4,
   "metadata": {},
   "outputs": [
    {
     "data": {
      "text/html": [
       "<div>\n",
       "<style scoped>\n",
       "    .dataframe tbody tr th:only-of-type {\n",
       "        vertical-align: middle;\n",
       "    }\n",
       "\n",
       "    .dataframe tbody tr th {\n",
       "        vertical-align: top;\n",
       "    }\n",
       "\n",
       "    .dataframe thead th {\n",
       "        text-align: right;\n",
       "    }\n",
       "</style>\n",
       "<table border=\"1\" class=\"dataframe\">\n",
       "  <thead>\n",
       "    <tr style=\"text-align: right;\">\n",
       "      <th></th>\n",
       "      <th>file</th>\n",
       "      <th>message</th>\n",
       "    </tr>\n",
       "  </thead>\n",
       "  <tbody>\n",
       "    <tr>\n",
       "      <th>0</th>\n",
       "      <td>rodrique-r/all_documents/116.</td>\n",
       "      <td>Message-ID: &lt;6426584.1075858324441.JavaMail.ev...</td>\n",
       "    </tr>\n",
       "    <tr>\n",
       "      <th>1</th>\n",
       "      <td>rodrique-r/all_documents/117.</td>\n",
       "      <td>Message-ID: &lt;33441464.1075858324463.JavaMail.e...</td>\n",
       "    </tr>\n",
       "    <tr>\n",
       "      <th>2</th>\n",
       "      <td>rodrique-r/all_documents/118.</td>\n",
       "      <td>Message-ID: &lt;13964941.1075858324484.JavaMail.e...</td>\n",
       "    </tr>\n",
       "    <tr>\n",
       "      <th>3</th>\n",
       "      <td>rodrique-r/all_documents/119.</td>\n",
       "      <td>Message-ID: &lt;29067138.1075858324506.JavaMail.e...</td>\n",
       "    </tr>\n",
       "    <tr>\n",
       "      <th>4</th>\n",
       "      <td>rodrique-r/all_documents/12.</td>\n",
       "      <td>Message-ID: &lt;26674422.1075858322187.JavaMail.e...</td>\n",
       "    </tr>\n",
       "  </tbody>\n",
       "</table>\n",
       "</div>"
      ],
      "text/plain": [
       "                            file  \\\n",
       "0  rodrique-r/all_documents/116.   \n",
       "1  rodrique-r/all_documents/117.   \n",
       "2  rodrique-r/all_documents/118.   \n",
       "3  rodrique-r/all_documents/119.   \n",
       "4   rodrique-r/all_documents/12.   \n",
       "\n",
       "                                             message  \n",
       "0  Message-ID: <6426584.1075858324441.JavaMail.ev...  \n",
       "1  Message-ID: <33441464.1075858324463.JavaMail.e...  \n",
       "2  Message-ID: <13964941.1075858324484.JavaMail.e...  \n",
       "3  Message-ID: <29067138.1075858324506.JavaMail.e...  \n",
       "4  Message-ID: <26674422.1075858322187.JavaMail.e...  "
      ]
     },
     "execution_count": 4,
     "metadata": {},
     "output_type": "execute_result"
    }
   ],
   "source": [
    "# Displaying first 10 rows of DataFrame\n",
    "df.head()"
   ]
  },
  {
   "cell_type": "markdown",
   "metadata": {},
   "source": [
    "## Data Preprocessing and Feature Engineering"
   ]
  },
  {
   "cell_type": "markdown",
   "metadata": {},
   "source": [
    "By Analysis, it was found out that for each row Mail Body starts just after the key-value pair of X-FileName in the dataset. Thus, part upto that is useless and can be removed. Therefore, we only need to focus on the part after that."
   ]
  },
  {
   "cell_type": "code",
   "execution_count": 5,
   "metadata": {},
   "outputs": [],
   "source": [
    "''' Mail Extraction - Cleaning out unimportant information from each row '''\n",
    "\n",
    "# Using RegEx to keep the content after the pattern \"X-FileName\" from each row and removing the other part\n",
    "df['message'] = df['message'].apply(lambda x : regex.split(r'(?<=X-FileName)', x)[1])\n",
    "\n",
    "# Now removing the File Name which still exists after the first step of Mail Extraction\n",
    "df['message'] = df['message'].apply(lambda x : regex.split(r'(?<=\\n\\n)', x))\n",
    "\n",
    "# At Last merging the remaining data and converting it into a string\n",
    "df['message'] = df['message'].apply(lambda x : \"\".join(x[1:]))"
   ]
  },
  {
   "cell_type": "code",
   "execution_count": 6,
   "metadata": {},
   "outputs": [
    {
     "data": {
      "text/html": [
       "<div>\n",
       "<style scoped>\n",
       "    .dataframe tbody tr th:only-of-type {\n",
       "        vertical-align: middle;\n",
       "    }\n",
       "\n",
       "    .dataframe tbody tr th {\n",
       "        vertical-align: top;\n",
       "    }\n",
       "\n",
       "    .dataframe thead th {\n",
       "        text-align: right;\n",
       "    }\n",
       "</style>\n",
       "<table border=\"1\" class=\"dataframe\">\n",
       "  <thead>\n",
       "    <tr style=\"text-align: right;\">\n",
       "      <th></th>\n",
       "      <th>file</th>\n",
       "      <th>message</th>\n",
       "    </tr>\n",
       "  </thead>\n",
       "  <tbody>\n",
       "    <tr>\n",
       "      <th>0</th>\n",
       "      <td>rodrique-r/all_documents/116.</td>\n",
       "      <td>I'm leaving.  I'll see you Monday.  Hope you h...</td>\n",
       "    </tr>\n",
       "    <tr>\n",
       "      <th>1</th>\n",
       "      <td>rodrique-r/all_documents/117.</td>\n",
       "      <td>She does seem pretty impressed that she's effe...</td>\n",
       "    </tr>\n",
       "    <tr>\n",
       "      <th>2</th>\n",
       "      <td>rodrique-r/all_documents/118.</td>\n",
       "      <td>I don't think she thinks we kept it a secret v...</td>\n",
       "    </tr>\n",
       "    <tr>\n",
       "      <th>3</th>\n",
       "      <td>rodrique-r/all_documents/119.</td>\n",
       "      <td>Brian,\\n\\nWe have someone new doing the P&amp;L no...</td>\n",
       "    </tr>\n",
       "    <tr>\n",
       "      <th>4</th>\n",
       "      <td>rodrique-r/all_documents/12.</td>\n",
       "      <td>I hate Canada.</td>\n",
       "    </tr>\n",
       "    <tr>\n",
       "      <th>5</th>\n",
       "      <td>rodrique-r/all_documents/120.</td>\n",
       "      <td>Apparently she thought Valentines was like a f...</td>\n",
       "    </tr>\n",
       "    <tr>\n",
       "      <th>6</th>\n",
       "      <td>rodrique-r/all_documents/121.</td>\n",
       "      <td>Binh Knows...she quizzed me as soon as I sat d...</td>\n",
       "    </tr>\n",
       "    <tr>\n",
       "      <th>7</th>\n",
       "      <td>rodrique-r/all_documents/122.</td>\n",
       "      <td>Jeff said if we were going to spend that much ...</td>\n",
       "    </tr>\n",
       "    <tr>\n",
       "      <th>8</th>\n",
       "      <td>rodrique-r/all_documents/123.</td>\n",
       "      <td>Hey,\\n\\nEveryone's asked me how the happy hour...</td>\n",
       "    </tr>\n",
       "    <tr>\n",
       "      <th>9</th>\n",
       "      <td>rodrique-r/all_documents/124.</td>\n",
       "      <td>Apparently you can't open the link so here's a...</td>\n",
       "    </tr>\n",
       "  </tbody>\n",
       "</table>\n",
       "</div>"
      ],
      "text/plain": [
       "                            file  \\\n",
       "0  rodrique-r/all_documents/116.   \n",
       "1  rodrique-r/all_documents/117.   \n",
       "2  rodrique-r/all_documents/118.   \n",
       "3  rodrique-r/all_documents/119.   \n",
       "4   rodrique-r/all_documents/12.   \n",
       "5  rodrique-r/all_documents/120.   \n",
       "6  rodrique-r/all_documents/121.   \n",
       "7  rodrique-r/all_documents/122.   \n",
       "8  rodrique-r/all_documents/123.   \n",
       "9  rodrique-r/all_documents/124.   \n",
       "\n",
       "                                             message  \n",
       "0  I'm leaving.  I'll see you Monday.  Hope you h...  \n",
       "1  She does seem pretty impressed that she's effe...  \n",
       "2  I don't think she thinks we kept it a secret v...  \n",
       "3  Brian,\\n\\nWe have someone new doing the P&L no...  \n",
       "4                                     I hate Canada.  \n",
       "5  Apparently she thought Valentines was like a f...  \n",
       "6  Binh Knows...she quizzed me as soon as I sat d...  \n",
       "7  Jeff said if we were going to spend that much ...  \n",
       "8  Hey,\\n\\nEveryone's asked me how the happy hour...  \n",
       "9  Apparently you can't open the link so here's a...  "
      ]
     },
     "execution_count": 6,
     "metadata": {},
     "output_type": "execute_result"
    }
   ],
   "source": [
    "# Displaying the first 10 rows of processed data after applying first step of data preprocessing\n",
    "df.head(10)"
   ]
  },
  {
   "cell_type": "code",
   "execution_count": 7,
   "metadata": {},
   "outputs": [],
   "source": [
    "# dropping file column because it is useless\n",
    "df = df.drop('file', axis=1)"
   ]
  },
  {
   "cell_type": "code",
   "execution_count": 8,
   "metadata": {},
   "outputs": [
    {
     "data": {
      "text/plain": [
       "message    0\n",
       "dtype: int64"
      ]
     },
     "execution_count": 8,
     "metadata": {},
     "output_type": "execute_result"
    }
   ],
   "source": [
    "# Checking for Null Values\n",
    "df.isnull().sum()"
   ]
  },
  {
   "cell_type": "markdown",
   "metadata": {},
   "source": [
    "Since there're no Null Values present that means we can directly proceed to Keyword Extraction"
   ]
  },
  {
   "cell_type": "markdown",
   "metadata": {},
   "source": [
    "## Keyword Extraction"
   ]
  },
  {
   "cell_type": "code",
   "execution_count": 9,
   "metadata": {},
   "outputs": [],
   "source": [
    "# Creating instance to Perform Lemmatization and creating an empty Corpus\n",
    "lemmatizer = WordNetLemmatizer()\n",
    "corpus = []\n",
    "stop = set(stopwords.words())\n",
    "dictionary = words.words()"
   ]
  },
  {
   "cell_type": "code",
   "execution_count": 10,
   "metadata": {},
   "outputs": [
    {
     "data": {
      "application/vnd.jupyter.widget-view+json": {
       "model_id": "b11e9519c0f6416296f3a55e9aea18f4",
       "version_major": 2,
       "version_minor": 0
      },
      "text/plain": [
       "HBox(children=(IntProgress(value=0, max=10348), HTML(value='')))"
      ]
     },
     "metadata": {},
     "output_type": "display_data"
    },
    {
     "name": "stdout",
     "output_type": "stream",
     "text": [
      "\n"
     ]
    }
   ],
   "source": [
    "# Performing Natural Language Preprocessing\n",
    "for idx in bar(range(df.shape[0])):\n",
    "    text = regex.sub('[^a-zA-Z]', ' ', df['message'][idx])        # Substituting ' ' wherever numbers or special symbols are present\n",
    "    text = text.lower()\n",
    "    text = text.split()\n",
    "    text = [lemmatizer.lemmatize(word) for word in text if word not in stop and word in dictionary]\n",
    "    text = ' '.join(text)\n",
    "    corpus.append(text)"
   ]
  },
  {
   "cell_type": "markdown",
   "metadata": {},
   "source": [
    "### For Unigrams"
   ]
  },
  {
   "cell_type": "code",
   "execution_count": 11,
   "metadata": {},
   "outputs": [],
   "source": [
    "# Fitting Bag-of-Words Model and generating Vectors for Unigrams\n",
    "co_ve = CountVectorizer(ngram_range=(1,1))\n",
    "bag_of_words = co_ve.fit_transform(corpus).toarray()"
   ]
  },
  {
   "cell_type": "code",
   "execution_count": 12,
   "metadata": {},
   "outputs": [],
   "source": [
    "# Creating the Frequency Dictionary for Unigrams\n",
    "bag_of_words = bag_of_words.sum(axis=0)\n",
    "words_freq = dict()\n",
    "for word, freq in zip(list(co_ve.vocabulary_.keys()), list(bag_of_words)):\n",
    "    words_freq[word] = freq\n",
    "\n",
    "# Sorting Keywords by their freq of occurrences in reverse order\n",
    "words_freq = dict(sorted(words_freq.items(), key=lambda kv:(kv[1], kv[0]), reverse=True))"
   ]
  },
  {
   "cell_type": "code",
   "execution_count": 13,
   "metadata": {},
   "outputs": [
    {
     "data": {
      "text/plain": [
       "<matplotlib.axes._subplots.AxesSubplot at 0x1d27d862898>"
      ]
     },
     "execution_count": 13,
     "metadata": {},
     "output_type": "execute_result"
    },
    {
     "data": {
      "image/png": "[encoded data removed]",
      "text/plain": [
       "<Figure size 432x288 with 1 Axes>"
      ]
     },
     "metadata": {
      "needs_background": "light"
     },
     "output_type": "display_data"
    }
   ],
   "source": [
    "# Plotting a Barplot for Top 20 Occurred Unigrams\n",
    "sns.barplot(y=list(words_freq.keys())[:20], x=list(words_freq.values())[:20])"
   ]
  },
  {
   "cell_type": "markdown",
   "metadata": {},
   "source": [
    "### For Bigrams"
   ]
  },
  {
   "cell_type": "code",
   "execution_count": 14,
   "metadata": {},
   "outputs": [],
   "source": [
    "# Fitting Bag-of-Words Model and generating Vectors for Bigrams\n",
    "co_ve = CountVectorizer(ngram_range=(2,2))\n",
    "bag_of_words = co_ve.fit_transform(corpus).toarray()"
   ]
  },
  {
   "cell_type": "code",
   "execution_count": 15,
   "metadata": {},
   "outputs": [],
   "source": [
    "# Creating the Frequency Dictionary for Unigrams\n",
    "bag_of_words = bag_of_words.sum(axis=0)\n",
    "words_freq = dict()\n",
    "for word, freq in zip(list(co_ve.vocabulary_.keys()), list(bag_of_words)):\n",
    "    words_freq[word] = freq\n",
    "\n",
    "# Sorting Keywords by their freq of occurrences in reverse order\n",
    "words_freq = dict(sorted(words_freq.items(), key=lambda kv:(kv[1], kv[0]), reverse=True))"
   ]
  },
  {
   "cell_type": "code",
   "execution_count": 16,
   "metadata": {},
   "outputs": [
    {
     "data": {
      "text/plain": [
       "<matplotlib.axes._subplots.AxesSubplot at 0x1d27d87b320>"
      ]
     },
     "execution_count": 16,
     "metadata": {},
     "output_type": "execute_result"
    },
    {
     "data": {
      "image/png": "[encoded data removed]",
      "text/plain": [
       "<Figure size 432x288 with 1 Axes>"
      ]
     },
     "metadata": {
      "needs_background": "light"
     },
     "output_type": "display_data"
    }
   ],
   "source": [
    "# Plotting a Barplot for Top 20 Occurred Bigrams\n",
    "sns.barplot(y=list(words_freq.keys())[:20], x=list(words_freq.values())[:20])"
   ]
  },
  {
   "cell_type": "markdown",
   "metadata": {},
   "source": [
    "### For Trigrams"
   ]
  },
  {
   "cell_type": "code",
   "execution_count": 17,
   "metadata": {},
   "outputs": [],
   "source": [
    "# Fitting Bag-of-Words Model and generating Vectors for Trigrams\n",
    "co_ve = CountVectorizer(ngram_range=(3,3))\n",
    "bag_of_words = co_ve.fit_transform(corpus).toarray()"
   ]
  },
  {
   "cell_type": "code",
   "execution_count": 18,
   "metadata": {},
   "outputs": [],
   "source": [
    "# Creating the Frequency Dictionary for Unigrams\n",
    "bag_of_words = bag_of_words.sum(axis=0)\n",
    "words_freq = dict()\n",
    "for word, freq in zip(list(co_ve.vocabulary_.keys()), list(bag_of_words)):\n",
    "    words_freq[word] = freq\n",
    "\n",
    "# Sorting Keywords by their freq of occurrences in reverse order\n",
    "words_freq = dict(sorted(words_freq.items(), key=lambda kv:(kv[1], kv[0]), reverse=True))"
   ]
  },
  {
   "cell_type": "code",
   "execution_count": 19,
   "metadata": {},
   "outputs": [
    {
     "data": {
      "text/plain": [
       "<matplotlib.axes._subplots.AxesSubplot at 0x1d200809a58>"
      ]
     },
     "execution_count": 19,
     "metadata": {},
     "output_type": "execute_result"
    },
    {
     "data": {
      "image/png": "[encoded data removed]",
      "text/plain": [
       "<Figure size 432x288 with 1 Axes>"
      ]
     },
     "metadata": {
      "needs_background": "light"
     },
     "output_type": "display_data"
    }
   ],
   "source": [
    "# Plotting a Barplot for Top 20 Occurred Trigrams\n",
    "sns.barplot(y=list(words_freq.keys())[:20], x=list(words_freq.values())[:20])"
   ]
  }
 ],
 "metadata": {
  "kernelspec": {
   "display_name": "Python 3",
   "language": "python",
   "name": "python3"
  },
  "language_info": {
   "codemirror_mode": {
    "name": "ipython",
    "version": 3
   },
   "file_extension": ".py",
   "mimetype": "text/x-python",
   "name": "python",
   "nbconvert_exporter": "python",
   "pygments_lexer": "ipython3",
   "version": "3.7.3"
  }
 },
 "nbformat": 4,
 "nbformat_minor": 2
}
